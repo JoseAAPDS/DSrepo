{
 "cells": [
  {
   "cell_type": "markdown",
   "id": "7f4dace5",
   "metadata": {},
   "source": [
    "# Data Science Tools and Ecosystem"
   ]
  },
  {
   "cell_type": "markdown",
   "id": "cf495f76",
   "metadata": {},
   "source": [
    "In this notebook, we will be reviewing Data Science tools and ecosystem."
   ]
  },
  {
   "cell_type": "markdown",
   "id": "e8197931",
   "metadata": {},
   "source": [
    "**Objectives:**\n",
    "- List most popular languages in Data Science\n",
    "- List most common libraries used in Data Science\n",
    "- Table of open source development environments\n",
    "- Examples of markdown cells with different formats\n",
    "- Examples of code running in Python"
   ]
  },
  {
   "cell_type": "markdown",
   "id": "13b7c034",
   "metadata": {},
   "source": [
    "There are many programming languages, some of the most popular used in Data Science are:\n",
    "1. Python\n",
    "2. R\n",
    "3. SQL\n",
    "4. C++\n",
    "5. Java"
   ]
  },
  {
   "cell_type": "markdown",
   "id": "fb1f46f1",
   "metadata": {},
   "source": [
    "Also there are many libraries, the most common used by Data Scientists are:\n",
    "1. Pandas\n",
    "2. Numpy\n",
    "3. Matplotlib\n",
    "4. TensorFlow\n",
    "5. ggplot2"
   ]
  },
  {
   "cell_type": "markdown",
   "id": "9859add8",
   "metadata": {},
   "source": [
    "| Data Science Tools |\n",
    "|:---------:|\n",
    "| Jupyter Lab |\n",
    "| Apache Zeppelin |\n",
    "| RStudio |"
   ]
  },
  {
   "cell_type": "markdown",
   "id": "0a9c58fc",
   "metadata": {},
   "source": [
    "### Below, we will be looking at some examples of evaluating arithmetic expressions in Python"
   ]
  },
  {
   "cell_type": "code",
   "execution_count": 1,
   "id": "eecea935",
   "metadata": {},
   "outputs": [
    {
     "data": {
      "text/plain": [
       "17"
      ]
     },
     "execution_count": 1,
     "metadata": {},
     "output_type": "execute_result"
    }
   ],
   "source": [
    "# This is an arithmetic to multiply and then add integers\n",
    "(3*4)+5"
   ]
  },
  {
   "cell_type": "code",
   "execution_count": 6,
   "id": "30f74324",
   "metadata": {},
   "outputs": [
    {
     "data": {
      "text/plain": [
       "3.33"
      ]
     },
     "execution_count": 6,
     "metadata": {},
     "output_type": "execute_result"
    }
   ],
   "source": [
    "# This expression converts 200 minutes to hours by dividing by 60\n",
    "round(200/60,2)"
   ]
  },
  {
   "cell_type": "markdown",
   "id": "0f3731b4",
   "metadata": {},
   "source": [
    "## Author\n",
    "José Acevedo"
   ]
  }
 ],
 "metadata": {
  "kernelspec": {
   "display_name": "Python 3 (ipykernel)",
   "language": "python",
   "name": "python3"
  },
  "language_info": {
   "codemirror_mode": {
    "name": "ipython",
    "version": 3
   },
   "file_extension": ".py",
   "mimetype": "text/x-python",
   "name": "python",
   "nbconvert_exporter": "python",
   "pygments_lexer": "ipython3",
   "version": "3.9.13"
  }
 },
 "nbformat": 4,
 "nbformat_minor": 5
}
